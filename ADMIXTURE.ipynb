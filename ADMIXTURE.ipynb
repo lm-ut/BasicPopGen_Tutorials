{
 "cells": [
  {
   "cell_type": "markdown",
   "id": "b948718e",
   "metadata": {},
   "source": [
    "# ADMIXTURE (Alexander 2009)\n",
    "\n",
    "Extract from my PhD thesis: http://dspace.ut.ee/bitstream/handle/10062/82088/molinaro_ludovica.pdf?sequence=6&isAllowed=y\n",
    "\n",
    "It is possible to summarise the genetic information without a priori information by clustering the target individuals based on their genetic patterns, highlighting population structure within the dataset. \n",
    "\n",
    "### Clustering\n",
    "Given a K number of clusters, clustering algorithms group together samples based on their similarity. As a result they assign each individual to all clusters with a probability of belonging to that cluster, defined as the membership coefficient. Such assignments occur SNP-wise to account for multiple ancestries within one genome. In this way, each individual will several membership coefficients that summarise the proportion of DNA for which they are most closely related to\n",
    "the other individuals in cluster K."
   ]
  },
  {
   "cell_type": "markdown",
   "id": "f2b1a8fc",
   "metadata": {},
   "source": [
    "## ADMIXTURE:\n",
    "MANUAL: https://dalexander.github.io/admixture/admixture-manual.pdf\n",
    "\n",
    "Extract from ADMIXTURE manual:  \n",
    "\n",
    "ADMIXTURE is a program for estimating ancestry in a model-based manner from large autosomal SNP genotype datasets, where the individuals are unrelated (for example, the individuals in a case-control association study). ADMIXTURE’s input is binary PLINK (.bed), ordinary PLINK (.ped), or EIGENSTRAT (.geno) formatted files and its output is simple space-delimited files containing the parameter estimates"
   ]
  },
  {
   "cell_type": "markdown",
   "id": "3f1f7b06",
   "metadata": {},
   "source": [
    "To use ADMIXTURE, you need an input file and an idea of `K` (a number that might reflect the number of ancestral populations). In the working directory, you should also have the input files: .bed, .bim  and .fam files. "
   ]
  },
  {
   "cell_type": "markdown",
   "id": "65c23630",
   "metadata": {},
   "source": [
    "The general sintax to run admixture is the following:"
   ]
  },
  {
   "cell_type": "raw",
   "id": "53d7df59",
   "metadata": {},
   "source": [
    "% admixture file.bed K --cv"
   ]
  },
  {
   "cell_type": "markdown",
   "id": "eda067e0",
   "metadata": {},
   "source": [
    "It's general practice to run unsupervised ADMIXTURE for multiple K, for example:"
   ]
  },
  {
   "cell_type": "raw",
   "id": "dce8050f",
   "metadata": {},
   "source": [
    "% for K in {1..15}; do admixture file.bed ${K} --cv; done"
   ]
  },
  {
   "cell_type": "markdown",
   "id": "57f9ae96",
   "metadata": {},
   "source": [
    "The usage of K=1 is explained at the end"
   ]
  },
  {
   "cell_type": "markdown",
   "id": "862900c6",
   "metadata": {},
   "source": [
    "## Preparing the dataset\n",
    "\n",
    "ADMIXTURE does not explicitly model Linkage Disequilibrium (LD), so it is best practice to remove SNPs in LD.\n",
    "\n",
    "Using the software plink v1.9, we are going to first indentifying the SNPs that:\n",
    "\n",
    "- show a pariwise r^2 > `0.1`\n",
    "- in a genomic window of `50` SNPs,\n",
    "- shifted by `10` SNPs at the end of each step\n",
    "\n",
    "All the SNPs that exceed the 0.1 threshold, will then be removed"
   ]
  },
  {
   "cell_type": "code",
   "execution_count": null,
   "id": "080583d0",
   "metadata": {},
   "outputs": [],
   "source": [
    "! plink --bfile dataset/1KGs_chr1_maf \\\n",
    "        --indep-pairwise 50 10 0.1 \\\n",
    "        --out dataset/SNPs_inLD"
   ]
  },
  {
   "cell_type": "markdown",
   "id": "8e15b86c",
   "metadata": {},
   "source": [
    "The command `--indep-pairwise` will create two files: X.prune.in and X.prune.out, where as X plink will set the name we indicated as an argument of the command `--output`"
   ]
  },
  {
   "cell_type": "markdown",
   "id": "13e7a703",
   "metadata": {},
   "source": [
    "We will now remove the SNPs that pass the 0.1 threshold, with the plink command `--exclude` and the file.prune.out created by the `--indep-pairwise` command"
   ]
  },
  {
   "cell_type": "code",
   "execution_count": null,
   "id": "2123c273",
   "metadata": {},
   "outputs": [],
   "source": [
    "! plink --bfile dataset/1KGs_chr1_maf \\\n",
    "        --exclude dataset/SNPs_inLD.prune.out \\\n",
    "        --make-bed \\\n",
    "        --out dataset/1KGs_chr1_maf_pruned "
   ]
  },
  {
   "cell_type": "markdown",
   "id": "ca8deb79",
   "metadata": {},
   "source": [
    "## Running unsupervised ADMIXTURE\n",
    "We will now run unsupervised ADMIXTURE, from K=1 to K=4. We will stick to K=4 for computational costrains, but generally admixture runs can go to K > 10."
   ]
  },
  {
   "cell_type": "code",
   "execution_count": null,
   "id": "92500262",
   "metadata": {},
   "outputs": [],
   "source": [
    "! for K in {1..4}; do admixture dataset/1KGs_chr1_maf_pruned.bed ${K} --cv; done"
   ]
  },
  {
   "cell_type": "markdown",
   "id": "2b9a49bb",
   "metadata": {},
   "source": [
    "ADMIXTURE will output in the working directory two outputs for each K: file.K.Q and file.K.P, where .Q contains the ancestry fractions, and .P the allele frequencies of the inferred ancestral populations. \n",
    "We are going to focus on the .Q file, that will contain:\n",
    "* K columns\n",
    "* As many rows as samples available, following the order of the .fam file"
   ]
  },
  {
   "cell_type": "code",
   "execution_count": 5,
   "id": "63775125",
   "metadata": {},
   "outputs": [
    {
     "name": "stdout",
     "output_type": "stream",
     "text": [
      "0.993758 0.006242\n",
      "0.971634 0.028366\n",
      "0.987112 0.012888\n",
      "0.980797 0.019203\n",
      "0.991779 0.008221\n",
      "0.974260 0.025740\n",
      "0.999990 0.000010\n",
      "0.988025 0.011975\n",
      "0.999990 0.000010\n",
      "0.978363 0.021637\n"
     ]
    }
   ],
   "source": [
    "! head 1KGs_chr1_maf_pruned.2.Q"
   ]
  },
  {
   "cell_type": "markdown",
   "id": "8d205bf4",
   "metadata": {},
   "source": [
    "Let's paste the first two columns of the fam file with the Q file, to get a better understanding of the output"
   ]
  },
  {
   "cell_type": "code",
   "execution_count": 7,
   "id": "67cb43db-8d0e-4b48-ba2b-cb17e7084b9a",
   "metadata": {},
   "outputs": [
    {
     "name": "stdout",
     "output_type": "stream",
     "text": [
      "GBR HG00096\t0.993758 0.006242\n",
      "GBR HG00097\t0.971634 0.028366\n",
      "GBR HG00099\t0.987112 0.012888\n",
      "GBR HG00100\t0.980797 0.019203\n",
      "GBR HG00101\t0.991779 0.008221\n",
      "GBR HG00102\t0.974260 0.025740\n",
      "GBR HG00103\t0.999990 0.000010\n",
      "GBR HG00105\t0.988025 0.011975\n",
      "GBR HG00106\t0.999990 0.000010\n",
      "GBR HG00107\t0.978363 0.021637\n"
     ]
    }
   ],
   "source": [
    "! awk '{print $1,$2}' ../dataset/1KGs_chr1_maf_pruned.fam > POP_ID_list\n",
    "! for K in {1..4}; do paste POP_ID_list 1KGs_chr1_maf_pruned.${K}.Q > 1KGs_chr1_maf_pruned_ID.${K}.Q; done\n",
    "! head 1KGs_chr1_maf_pruned_ID.2.Q"
   ]
  },
  {
   "cell_type": "markdown",
   "id": "56f8fa86",
   "metadata": {},
   "source": [
    "## Basic Plot"
   ]
  },
  {
   "cell_type": "code",
   "execution_count": 9,
   "id": "bbeef7c8-22f4-47a0-895d-0b0c03d5f015",
   "metadata": {},
   "outputs": [
    {
     "name": "stdout",
     "output_type": "stream",
     "text": [
      "\u001b[?25h\u001b[?25h\u001b[?25h\u001b[?25h\u001b[?25h\u001b[?25hnull device \n",
      "          1 \n",
      "\u001b[?25h\u001b[?25h"
     ]
    }
   ],
   "source": [
    "! Rscript ../scripts/ADMIXTURE.R 1KGs_chr1_maf_pruned_ID 4"
   ]
  },
  {
   "cell_type": "markdown",
   "id": "c330f6b1",
   "metadata": {},
   "source": [
    "## Running supervised ADMIXTURE\n",
    "\n",
    "Supervised ADMIXTURE \n",
    "\n",
    "Supervised learning mode is enabled with the flag `--supervised` and requires an additional\n",
    "file with a .pop suffix, specifying the ancestries of the reference individuals. Like this:\n",
    "\n",
    "admixure --supervised --cv K file.bed"
   ]
  },
  {
   "cell_type": "markdown",
   "id": "d1a0a052",
   "metadata": {},
   "source": [
    "As mentioned, this mode required an additional file with .pop suffix. The prefix should be the same as the bed file. For example: mydata.bed, mydata.bim, mydata.fam and also mydata.pop."
   ]
  },
  {
   "cell_type": "markdown",
   "id": "d08f2f83",
   "metadata": {},
   "source": [
    "The .pop file should look like below, where the individual characterized as \"-\" will be described as a mixture of \"AFR\", \"ASN\", \"EUR\". "
   ]
  },
  {
   "cell_type": "raw",
   "id": "45c1292f",
   "metadata": {},
   "source": [
    "AFR NA.. 0 0 0 1 AFR\n",
    "EUR NA.. 0 0 0 1 EUR\n",
    "ASN NA.. 0 0 0 1 ASN\n",
    "- IND1 0 0 0 1 - "
   ]
  },
  {
   "cell_type": "markdown",
   "id": "4dd29ab8",
   "metadata": {},
   "source": [
    "Given that in this example we have AFR, ASN, EUR, the K will be 3. In this way we force ADMIXTURE to describe the individual '-' as a mixture of 3 ancestry/clusters. "
   ]
  },
  {
   "cell_type": "markdown",
   "id": "e15477ef",
   "metadata": {},
   "source": [
    "We can create the `.pop` file, starting from the .fam file already available"
   ]
  },
  {
   "cell_type": "code",
   "execution_count": 14,
   "id": "d2331572",
   "metadata": {},
   "outputs": [
    {
     "name": "stdout",
     "output_type": "stream",
     "text": [
      "GBR HG00096 0 0 0 -9\n",
      "GBR HG00097 0 0 0 -9\n",
      "GBR HG00099 0 0 0 -9\n",
      "GBR HG00100 0 0 0 -9\n",
      "GBR HG00101 0 0 0 -9\n",
      "GBR HG00102 0 0 0 -9\n",
      "GBR HG00103 0 0 0 -9\n",
      "GBR HG00105 0 0 0 -9\n",
      "GBR HG00106 0 0 0 -9\n",
      "GBR HG00107 0 0 0 -9\n"
     ]
    }
   ],
   "source": [
    "! head dataset/1KGs_chr1_maf_pruned.fam"
   ]
  },
  {
   "cell_type": "code",
   "execution_count": 57,
   "id": "fe6d675d-b0f1-46dc-89ab-b1a41e2ffd75",
   "metadata": {},
   "outputs": [],
   "source": [
    "! awk '{ \\\n",
    "  if ($1 == \"YRI\" || $1 == \"ESN\" || $1 == \"LWK\") \\\n",
    "    category = \"AFR\"; \\\n",
    "  else if ($1 == \"CEU\" || $1 == \"GBR\" || $1 == \"TSI\")\\\n",
    "    category = \"EUR\"; \\\n",
    "  else if ($1 == \"CHS\" || $1 == \"CHB\" || $1 == \"CDX\") \\\n",
    "    category = \"ASN\"; \\\n",
    "  else \\\n",
    "    category = \"-\"; \\\n",
    "  print category, $2, $3, $4, $5, $6, category; \\\n",
    "}' dataset/1KGs_chr1_maf_pruned.fam > dataset/1KGs_chr1_maf_pruned.pop"
   ]
  },
  {
   "cell_type": "code",
   "execution_count": 58,
   "id": "403d8ad5-93b0-4268-bfa7-0360fe51d6ba",
   "metadata": {},
   "outputs": [
    {
     "name": "stdout",
     "output_type": "stream",
     "text": [
      "****                   ADMIXTURE Version 1.3.0                  ****\n",
      "****                    Copyright 2008-2015                     ****\n",
      "****           David Alexander, Suyash Shringarpure,            ****\n",
      "****                John  Novembre, Ken Lange                   ****\n",
      "****                                                            ****\n",
      "****                 Please cite our paper!                     ****\n",
      "****   Information at www.genetics.ucla.edu/software/admixture  ****\n",
      "\n",
      "Cross-validation will be performed.  Folds=5.\n",
      "Random seed: 43\n",
      "Point estimation method: Block relaxation algorithm\n",
      "Convergence acceleration algorithm: QuasiNewton, 3 secant conditions\n",
      "Point estimation will terminate when objective function delta < 0.0001\n",
      "Estimation of standard errors disabled; will compute point estimates only.\n",
      "Supervised analysis mode.  Examining .pop file...\n",
      "Size of G: 3202x31437\n",
      "Performing five EM steps to prime main algorithm\n",
      "1 (EM) \tElapsed: 6.303\tLoglikelihood: -9.63468e+07\t(delta): 7.99229e+07\n",
      "2 (EM) \tElapsed: 6.563\tLoglikelihood: -9.37532e+07\t(delta): 2.59356e+06\n",
      "3 (EM) \tElapsed: 5.893\tLoglikelihood: -9.30893e+07\t(delta): 663894\n",
      "4 (EM) \tElapsed: 5.66\tLoglikelihood: -9.28163e+07\t(delta): 273081\n",
      "5 (EM) \tElapsed: 5.609\tLoglikelihood: -9.26341e+07\t(delta): 182190\n",
      "Initial loglikelihood: -9.26341e+07\n",
      "Starting main algorithm\n",
      "1 (QN/Block) \tElapsed: 13.39\tLoglikelihood: -8.95076e+07\t(delta): 3.12648e+06\n",
      "2 (QN/Block) \tElapsed: 13.005\tLoglikelihood: -8.93563e+07\t(delta): 151286\n",
      "3 (QN/Block) \tElapsed: 15.011\tLoglikelihood: -8.9301e+07\t(delta): 55286.3\n",
      "4 (QN/Block) \tElapsed: 14.909\tLoglikelihood: -8.92779e+07\t(delta): 23160.9\n",
      "5 (QN/Block) \tElapsed: 15.088\tLoglikelihood: -8.92717e+07\t(delta): 6110.78\n",
      "6 (QN/Block) \tElapsed: 17.828\tLoglikelihood: -8.92712e+07\t(delta): 498.726\n",
      "7 (QN/Block) \tElapsed: 14.991\tLoglikelihood: -8.92712e+07\t(delta): 6.35022\n",
      "8 (QN/Block) \tElapsed: 14.94\tLoglikelihood: -8.92712e+07\t(delta): 3.51831\n",
      "9 (QN/Block) \tElapsed: 17.921\tLoglikelihood: -8.92712e+07\t(delta): 0.392246\n",
      "10 (QN/Block) \tElapsed: 15.038\tLoglikelihood: -8.92712e+07\t(delta): 0.000489444\n",
      "11 (QN/Block) \tElapsed: 14.997\tLoglikelihood: -8.92712e+07\t(delta): 3.64184e-05\n",
      "Summary: \n",
      "Converged in 11 iterations (215.518 sec)\n",
      "Loglikelihood: -89271233.365774\n",
      "Fst divergences between estimated populations: \n",
      "\tPop0\tPop1\t\n",
      "Pop0\t\n",
      "Pop1\t0.087\t\n",
      "Pop2\t0.117\t0.139\t\n",
      "CV error (K=3): 0.49073\n",
      "Writing output files.\n"
     ]
    }
   ],
   "source": [
    "! admixture dataset/1KGs_chr1_maf_pruned.bed --supervised --cv 3 "
   ]
  },
  {
   "cell_type": "markdown",
   "id": "e6b7bee4-c90d-4d5d-b3f6-6adb8483fc2f",
   "metadata": {},
   "source": [
    "Let's paste the first two columns of the fam file with the Q file, to get a better understanding of the output"
   ]
  },
  {
   "cell_type": "code",
   "execution_count": 59,
   "id": "6822ff20-320e-487f-b7b4-6902d1939ed2",
   "metadata": {},
   "outputs": [
    {
     "name": "stdout",
     "output_type": "stream",
     "text": [
      "GBR HG00096 0.999980 0.000010\n",
      "GBR HG00097 0.999980 0.000010\n",
      "GBR HG00099 0.999980 0.000010\n",
      "GBR HG00100 0.999980 0.000010\n",
      "GBR HG00101 0.999980 0.000010\n",
      "GBR HG00102 0.999980 0.000010\n",
      "GBR HG00103 0.999980 0.000010\n",
      "GBR HG00105 0.999980 0.000010\n",
      "GBR HG00106 0.999980 0.000010\n",
      "GBR HG00107 0.999980 0.000010\n"
     ]
    }
   ],
   "source": [
    "! paste dataset/1KGs_chr1_maf_pruned.fam 1KGs_chr1_maf_pruned.3.Q | awk '{print $1,$2,$7,$8}' > 1KGs_chr1_maf_pruned_supervised_ID.3.Q\n",
    "! head 1KGs_chr1_maf_pruned_supervised_ID.3.Q"
   ]
  },
  {
   "cell_type": "markdown",
   "id": "0e4dd339-9b90-46e5-b1da-883d7a15239f",
   "metadata": {},
   "source": [
    "## Basic Plot"
   ]
  },
  {
   "cell_type": "code",
   "execution_count": 10,
   "id": "2f037d0b-6a4d-4785-abc4-187a6920a2df",
   "metadata": {},
   "outputs": [
    {
     "name": "stdout",
     "output_type": "stream",
     "text": [
      "\u001b[?25h\u001b[?25h\u001b[?25h\u001b[?25h\u001b[?25h\u001b[?25hnull device \n",
      "          1 \n",
      "\u001b[?25h\u001b[?25h"
     ]
    }
   ],
   "source": [
    "! Rscript ../scripts/ADMIXTURE.R 1KGs_chr1_maf_pruned_supervised_ID 3"
   ]
  },
  {
   "cell_type": "code",
   "execution_count": null,
   "id": "bf3b5949-4c80-4882-ac5d-16ab345c064e",
   "metadata": {},
   "outputs": [],
   "source": []
  }
 ],
 "metadata": {
  "kernelspec": {
   "display_name": "Python 3 (ipykernel)",
   "language": "python",
   "name": "python3"
  },
  "language_info": {
   "codemirror_mode": {
    "name": "ipython",
    "version": 3
   },
   "file_extension": ".py",
   "mimetype": "text/x-python",
   "name": "python",
   "nbconvert_exporter": "python",
   "pygments_lexer": "ipython3",
   "version": "3.9.15"
  }
 },
 "nbformat": 4,
 "nbformat_minor": 5
}
