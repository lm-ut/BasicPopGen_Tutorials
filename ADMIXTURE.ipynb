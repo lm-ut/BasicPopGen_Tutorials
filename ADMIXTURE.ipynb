{
 "cells": [
  {
   "cell_type": "markdown",
   "id": "ef62c45b-5517-44de-a6be-7d1543ab5dc7",
   "metadata": {},
   "source": [
    "# ADMIXTURE (Alexander 2009)\n",
    "\n",
    "Extract from my PhD thesis: http://dspace.ut.ee/bitstream/handle/10062/82088/molinaro_ludovica.pdf?sequence=6&isAllowed=y\n",
    "\n",
    "It is possible to summarise the genetic information without a priori information by clustering the target individuals based on their genetic patterns, highlighting population structure within the dataset. \n",
    "\n",
    "### Clustering\n",
    "Given a K number of clusters, clustering algorithms group together samples based on their similarity. As a result they assign each individual to all clusters with a probability of belonging to that cluster, defined as the membership coefficient. Such assignments occur SNP-wise to account for multiple ancestries within one genome. In this way, each individual will several membership coefficients that summarise the proportion of DNA for which they are most closely related to\n",
    "the other individuals in cluster K."
   ]
  },
  {
   "cell_type": "markdown",
   "id": "6a3a9f99-0332-418d-a3b5-588681286abc",
   "metadata": {},
   "source": [
    "## ADMIXTURE:\n",
    "MANUAL: https://dalexander.github.io/admixture/admixture-manual.pdf\n",
    "\n",
    "Extract from ADMIXTURE manual:  \n",
    "\n",
    "ADMIXTURE is a program for estimating ancestry in a model-based manner from large autosomal SNP genotype datasets, where the individuals are unrelated (for example, the individuals in a case-control association study). ADMIXTURE’s input is binary PLINK (.bed), ordinary PLINK (.ped), or EIGENSTRAT (.geno) formatted files and its output is simple space-delimited files containing the parameter estimates"
   ]
  },
  {
   "cell_type": "markdown",
   "id": "d671a66f-0e9a-42a9-a1d5-88a1b7a671f9",
   "metadata": {},
   "source": [
    "To use ADMIXTURE, you need an input file and an idea of `K` (a number that might reflect the number of ancestral populations). In the working directory, you should also have the input files: .bed, .bim  and .fam files. "
   ]
  },
  {
   "cell_type": "markdown",
   "id": "03d80c11-cc35-4239-a3fa-f0987b5011e0",
   "metadata": {},
   "source": [
    "The general sintax to run admixture is the following:"
   ]
  },
  {
   "cell_type": "raw",
   "id": "f4271544-8e72-42f2-a821-125d074fe542",
   "metadata": {},
   "source": [
    "% admixture file.bed K --cv"
   ]
  },
  {
   "cell_type": "markdown",
   "id": "4a5297fe-41f1-428f-b256-7b7933d41cc4",
   "metadata": {},
   "source": [
    "It's general practice to run unsupervised ADMIXTURE for multiple K, for example:"
   ]
  },
  {
   "cell_type": "raw",
   "id": "dd958ebb-436e-4493-b426-0366c17d206a",
   "metadata": {},
   "source": [
    "% for K in {1..15}; do admixture file.bed ${K} --cv; done"
   ]
  },
  {
   "cell_type": "markdown",
   "id": "9444eb1a-8b55-4c70-90cc-5aaa3bee7b7d",
   "metadata": {},
   "source": [
    "The usage of K=1 is explained at the end"
   ]
  },
  {
   "cell_type": "markdown",
   "id": "24b39117-c057-496b-a3a3-39610ff9f323",
   "metadata": {},
   "source": [
    "## Preparing the dataset\n",
    "\n",
    "ADMIXTURE does not explicitly model Linkage Disequilibrium (LD), so it is best practice to remove SNPs in LD.\n",
    "\n",
    "Using the software plink v1.9, we are going to first indentifying the SNPs that:\n",
    "\n",
    "- show a pariwise r^2 > `0.1`\n",
    "- in a genomic window of `50` SNPs,\n",
    "- shifted by `10` SNPs at the end of each step\n",
    "\n",
    "All the SNPs that exceed the 0.1 threshold, will then be removed"
   ]
  },
  {
   "cell_type": "code",
   "execution_count": 2,
   "id": "c51f0afd-f57e-487b-85cb-bb2a2edaf1fb",
   "metadata": {},
   "outputs": [
    {
     "name": "stdout",
     "output_type": "stream",
     "text": [
      "PLINK v1.90b6.26 32-bit (2 Apr 2022)           www.cog-genomics.org/plink/1.9/\n",
      "(C) 2005-2022 Shaun Purcell, Christopher Chang   GNU General Public License v3\n",
      "Logging to ../dataset/SNPs_inLD.log.\n",
      "Options in effect:\n",
      "  --bfile ../dataset/1KGs_chr1_maf\n",
      "  --indep-pairwise 50 10 0.1\n",
      "  --out ../dataset/SNPs_inLD\n",
      "\n",
      "7768 MB RAM detected; reserving 2047 MB for main workspace.\n",
      "690389 variants loaded from .bim file.\n",
      "3202 people (0 males, 0 females, 3202 ambiguous) loaded from .fam.\n",
      "Ambiguous sex IDs written to ../dataset/SNPs_inLD.nosex .\n",
      "Using 1 thread (no multithreaded calculations invoked).\n",
      "Before main variant filters, 3202 founders and 0 nonfounders present.\n",
      "Calculating allele frequencies... 10111213141516171819202122232425262728293031323334353637383940414243444546474849505152535455565758596061626364656667686970717273747576777879808182838485868788899091929394959697989 done.\n",
      "Total genotyping rate is exactly 1.\n",
      "690389 variants and 3202 people pass filters and QC.\n",
      "Note: No phenotypes present.\n",
      "Pruned 658952 variants from chromosome 1, leaving 31437.\n",
      "Pruning complete.  658952 of 690389 variants removed.\n",
      "Marker lists written to ../dataset/SNPs_inLD.prune.in and\n",
      "../dataset/SNPs_inLD.prune.out .\n"
     ]
    }
   ],
   "source": [
    "! plink --bfile ../dataset/1KGs_chr1_maf \\\n",
    "        --indep-pairwise 50 10 0.1 \\\n",
    "        --out ../dataset/SNPs_inLD"
   ]
  },
  {
   "cell_type": "markdown",
   "id": "b8a42d72-68a7-454c-811c-c30abc8a05b6",
   "metadata": {},
   "source": [
    "The command `--indep-pairwise` will create two files: X.prune.in and X.prune.out, where as X plink will set the name we indicated as an argument of the command `--output`"
   ]
  },
  {
   "cell_type": "markdown",
   "id": "adc5ba02-0c64-4133-9838-d98e3c70808e",
   "metadata": {},
   "source": [
    "We will now remove the SNPs that pass the 0.1 threshold, with the plink command `--exclude` and the file.prune.out created by the `--indep-pairwise` command"
   ]
  },
  {
   "cell_type": "code",
   "execution_count": 8,
   "id": "a339b0ae-4b7c-4fe7-bd5c-bdec6d90ea77",
   "metadata": {},
   "outputs": [
    {
     "name": "stdout",
     "output_type": "stream",
     "text": [
      "PLINK v1.90b6.26 32-bit (2 Apr 2022)           www.cog-genomics.org/plink/1.9/\n",
      "(C) 2005-2022 Shaun Purcell, Christopher Chang   GNU General Public License v3\n",
      "Logging to ../dataset/1KGs_chr1_maf_pruned.log.\n",
      "Options in effect:\n",
      "  --bfile ../dataset/1KGs_chr1_maf\n",
      "  --exclude ../dataset/SNPs_inLD.prune.out\n",
      "  --make-bed\n",
      "  --out ../dataset/1KGs_chr1_maf_pruned\n",
      "\n",
      "7768 MB RAM detected; reserving 2047 MB for main workspace.\n",
      "690389 variants loaded from .bim file.\n",
      "3202 people (0 males, 0 females, 3202 ambiguous) loaded from .fam.\n",
      "Ambiguous sex IDs written to ../dataset/1KGs_chr1_maf_pruned.nosex .\n",
      "--exclude: 31437 variants remaining.\n",
      "Using 1 thread (no multithreaded calculations invoked).\n",
      "Before main variant filters, 3202 founders and 0 nonfounders present.\n",
      "Calculating allele frequencies... 10111213141516171819202122232425262728293031323334353637383940414243444546474849505152535455565758596061626364656667686970717273747576777879808182838485868788899091929394959697989 done.\n",
      "Total genotyping rate is exactly 1.\n",
      "31437 variants and 3202 people pass filters and QC.\n",
      "Note: No phenotypes present.\n",
      "--make-bed to ../dataset/1KGs_chr1_maf_pruned.bed +\n",
      "../dataset/1KGs_chr1_maf_pruned.bim + ../dataset/1KGs_chr1_maf_pruned.fam ...\n",
      "101112131415161718192021222324252627282930313233343536373839404142434445464748495051525354555657585960616263646566676869707172737475767778798081828384858687888990919293949596979899done.\n"
     ]
    }
   ],
   "source": [
    "! plink --bfile ../dataset/1KGs_chr1_maf \\\n",
    "        --exclude ../dataset/SNPs_inLD.prune.out \\\n",
    "        --make-bed \\\n",
    "        --out ../dataset/1KGs_chr1_maf_pruned "
   ]
  },
  {
   "cell_type": "markdown",
   "id": "548a472a-8c16-425b-a9ef-54e67083dd76",
   "metadata": {},
   "source": [
    "## Running unsupervised ADMIXTURE\n",
    "We will now run unsupervised ADMIXTURE with our dataset (available in dir dataset/), from K=1 to K=7, be sure to have installed ADMIXTURE or imported the conda environment available in the conda_env directory."
   ]
  },
  {
   "cell_type": "code",
   "execution_count": 10,
   "id": "e9d0fd56-072a-4bb5-a83d-dcdcaf86baff",
   "metadata": {},
   "outputs": [
    {
     "name": "stdout",
     "output_type": "stream",
     "text": [
      "/bin/bash: admixture: command not found\n",
      "/bin/bash: admixture: command not found\n",
      "/bin/bash: admixture: command not found\n",
      "/bin/bash: admixture: command not found\n",
      "/bin/bash: admixture: command not found\n",
      "/bin/bash: admixture: command not found\n",
      "/bin/bash: admixture: command not found\n"
     ]
    }
   ],
   "source": [
    "! for K in {1..7}; do admixture ../dataset/1KGs_chr1_maf_pruned.bed ${K} --cv; done"
   ]
  },
  {
   "cell_type": "markdown",
   "id": "255ed141-378f-4272-9bd7-acde6aae35b2",
   "metadata": {},
   "source": [
    "ADMIXTURE will output in the working directory two outputs: file.Q and file.P, where .Q contains the ancestry fractions), and .P the allele frequencies of the inferred ancestral populations. "
   ]
  },
  {
   "cell_type": "code",
   "execution_count": null,
   "id": "5b3c63dd-93ba-47f1-8197-cb31bc51f64b",
   "metadata": {},
   "outputs": [],
   "source": [
    "! head file.Q"
   ]
  },
  {
   "cell_type": "markdown",
   "id": "44712b09-2441-491d-a546-8ad74289a0d9",
   "metadata": {},
   "source": [
    "Note that the output filenames have ‘3’ in them. This indicates the number of populations (K) that was assumed for the analysis."
   ]
  },
  {
   "cell_type": "markdown",
   "id": "cc168b7f-5507-4eba-8189-5a89d3a99e64",
   "metadata": {},
   "source": [
    "## Basic Plot"
   ]
  },
  {
   "cell_type": "markdown",
   "id": "9176cd56-caf0-442e-8f25-6165e0a052aa",
   "metadata": {},
   "source": [
    "## Running supervised ADMIXTURE\n",
    "\n",
    "Supervised ADMIXTURE \n",
    "\n",
    "Supervised learning mode is enabled with the flag `--supervised` and requires an additional\n",
    "file with a .pop suffix, specifying the ancestries of the reference individuals. Like this:\n",
    "\n",
    "admixure --supervised --cv K file.bed"
   ]
  },
  {
   "cell_type": "markdown",
   "id": "db6fb566-b32c-4e30-8ff0-0f822634ec98",
   "metadata": {},
   "source": [
    "As mentioned, this mode required an additional file with .pop suffix. The prefix should be the same as the bed file. For example: mydata.bed, mydata.bim, mydata.fam and also mydata.pop."
   ]
  },
  {
   "cell_type": "markdown",
   "id": "160928b7-c6e3-4760-9319-9a139aa51147",
   "metadata": {},
   "source": [
    "The .pop file should look like below, where the individual characterized as \"-\" will be described as a mixture of \"AFR\", \"ASN\", \"EUR\". "
   ]
  },
  {
   "cell_type": "raw",
   "id": "22f4ccbb-9dab-4e76-8be7-603ffface7fc",
   "metadata": {},
   "source": [
    "YRI NA.. 0 0 0 1 AFR\n",
    "CEU NA.. 0 0 0 1 EUR\n",
    "CHS NA.. 0 0 0 1 ASN\n",
    "- IND1 0 0 0 1 - "
   ]
  },
  {
   "cell_type": "markdown",
   "id": "e5871e34-3fe0-48be-af05-db36c50eea9a",
   "metadata": {},
   "source": [
    "Given that in this example we have AFR, ASN, EUR, the K will be 3. In this way we force ADMIXTURE to describe the individual '-' as a mixture of 3 ancestry/clusters. "
   ]
  },
  {
   "cell_type": "markdown",
   "id": "8811abff-a090-487c-b9c9-4a89c21fac06",
   "metadata": {},
   "source": [
    "We can create the `.pop` file, starting from the .fam file already available"
   ]
  },
  {
   "cell_type": "code",
   "execution_count": 12,
   "id": "6b702723-1232-41cb-a917-bc7ff6a77783",
   "metadata": {},
   "outputs": [
    {
     "name": "stdout",
     "output_type": "stream",
     "text": [
      "GBR\tHG00096\t0\t0\t0\t-9\n",
      "GBR\tHG00097\t0\t0\t0\t-9\n",
      "GBR\tHG00099\t0\t0\t0\t-9\n",
      "GBR\tHG00100\t0\t0\t0\t-9\n",
      "GBR\tHG00101\t0\t0\t0\t-9\n",
      "GBR\tHG00102\t0\t0\t0\t-9\n",
      "GBR\tHG00103\t0\t0\t0\t-9\n",
      "GBR\tHG00105\t0\t0\t0\t-9\n",
      "GBR\tHG00106\t0\t0\t0\t-9\n",
      "GBR\tHG00107\t0\t0\t0\t-9\n"
     ]
    }
   ],
   "source": [
    "! head ../dataset/1KGs_chr1_maf_pruned.fam"
   ]
  },
  {
   "cell_type": "code",
   "execution_count": null,
   "id": "24549af5-92f1-4ed7-8512-dc13548b6f8d",
   "metadata": {},
   "outputs": [],
   "source": []
  }
 ],
 "metadata": {
  "kernelspec": {
   "display_name": "Python 3 (ipykernel)",
   "language": "python",
   "name": "python3"
  },
  "language_info": {
   "codemirror_mode": {
    "name": "ipython",
    "version": 3
   },
   "file_extension": ".py",
   "mimetype": "text/x-python",
   "name": "python",
   "nbconvert_exporter": "python",
   "pygments_lexer": "ipython3",
   "version": "3.9.15"
  }
 },
 "nbformat": 4,
 "nbformat_minor": 5
}
