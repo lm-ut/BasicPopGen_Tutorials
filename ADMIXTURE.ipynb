{
 "cells": [
  {
   "cell_type": "markdown",
   "metadata": {},
   "source": [
    "# ADMIXTURE (Alexander 2009)\n",
    "\n",
    "Extract from my PhD thesis: http://dspace.ut.ee/bitstream/handle/10062/82088/molinaro_ludovica.pdf?sequence=6&isAllowed=y\n",
    "\n",
    "It is possible to summarise the genetic information without a priori information by clustering the target individuals based on their genetic patterns, highlighting population structure within the dataset. \n",
    "\n",
    "### Clustering\n",
    "Given a K number of clusters, clustering algorithms group together samples based on their similarity. As a result they assign each individual to all clusters with a probability of belonging to that cluster, defined as the membership coefficient. Such assignments occur SNP-wise to account for multiple ancestries within one genome. In this way, each individual will several membership coefficients that summarise the proportion of DNA for which they are most closely related to\n",
    "the other individuals in cluster K."
   ]
  },
  {
   "cell_type": "markdown",
   "metadata": {},
   "source": [
    "## ADMIXTURE:\n",
    "MANUAL: https://dalexander.github.io/admixture/admixture-manual.pdf\n",
    "\n",
    "Extract from ADMIXTURE manual:  \n",
    "\n",
    "ADMIXTURE is a program for estimating ancestry in a model-based manner from large autosomal SNP genotype datasets, where the individuals are unrelated (for example, the individuals in a case-control association study). ADMIXTURE’s input is binary PLINK (.bed), ordinary PLINK (.ped), or EIGENSTRAT (.geno) formatted files and its output is simple space-delimited files containing the parameter estimates"
   ]
  },
  {
   "cell_type": "markdown",
   "metadata": {},
   "source": [
    "To use ADMIXTURE, you need an input file and an idea of `K` (a number that might reflect the number of ancestral populations). In the working directory, you should also have the input files: .bed, .bim  and .fam files. "
   ]
  },
  {
   "cell_type": "markdown",
   "metadata": {},
   "source": [
    "The general sintax to run admixture is the following:"
   ]
  },
  {
   "cell_type": "raw",
   "metadata": {},
   "source": [
    "% admixture file.bed K --cv"
   ]
  },
  {
   "cell_type": "markdown",
   "metadata": {},
   "source": [
    "It's general practice to run unsupervised ADMIXTURE for multiple K, for example:"
   ]
  },
  {
   "cell_type": "raw",
   "metadata": {},
   "source": [
    "% for K in {1..15}; do admixture file.bed ${K} --cv; done"
   ]
  },
  {
   "cell_type": "markdown",
   "metadata": {},
   "source": [
    "The usage of K=1 is explained at the end"
   ]
  },
  {
   "cell_type": "markdown",
   "metadata": {},
   "source": [
    "## Preparing the dataset\n",
    "\n",
    "ADMIXTURE does not explicitly model Linkage Disequilibrium (LD), so it is best practice to remove SNPs in LD.\n",
    "\n",
    "Using the software plink v1.9, we are going to first indentifying the SNPs that:\n",
    "\n",
    "- show a pariwise r^2 > `0.1`\n",
    "- in a genomic window of `50` SNPs,\n",
    "- shifted by `10` SNPs at the end of each step\n",
    "\n",
    "All the SNPs that exceed the 0.1 threshold, will then be removed"
   ]
  },
  {
   "cell_type": "code",
   "execution_count": null,
   "metadata": {},
   "outputs": [],
   "source": [
    "! plink --bfile ../dataset/1KGs_chr1_maf \\\n",
    "        --indep-pairwise 50 10 0.1 \\\n",
    "        --out ../dataset/SNPs_inLD"
   ]
  },
  {
   "cell_type": "markdown",
   "metadata": {},
   "source": [
    "The command `--indep-pairwise` will create two files: X.prune.in and X.prune.out, where as X plink will set the name we indicated as an argument of the command `--output`"
   ]
  },
  {
   "cell_type": "markdown",
   "metadata": {},
   "source": [
    "We will now remove the SNPs that pass the 0.1 threshold, with the plink command `--exclude` and the file.prune.out created by the `--indep-pairwise` command"
   ]
  },
  {
   "cell_type": "code",
   "execution_count": null,
   "metadata": {},
   "outputs": [],
   "source": [
    "! plink --bfile ../dataset/1KGs_chr1_maf \\\n",
    "        --exclude ../dataset/SNPs_inLD.prune.out \\\n",
    "        --make-bed \\\n",
    "        --out ../dataset/1KGs_chr1_maf_pruned "
   ]
  },
  {
   "cell_type": "markdown",
   "metadata": {},
   "source": [
    "## Running unsupervised ADMIXTURE\n",
    "We will now run unsupervised ADMIXTURE with our dataset (available in dir dataset/), from K=1 to K=7, be sure to have installed ADMIXTURE or imported the conda environment available in the conda_env directory."
   ]
  },
  {
   "cell_type": "code",
   "execution_count": null,
   "metadata": {},
   "outputs": [],
   "source": [
    "! for K in {1..7}; do admixture ../dataset/1KGs_chr1_maf_pruned.bed ${K} --cv; done"
   ]
  },
  {
   "cell_type": "markdown",
   "metadata": {},
   "source": [
    "ADMIXTURE will output in the working directory two outputs: file.Q and file.P, where .Q contains the ancestry fractions), and .P the allele frequencies of the inferred ancestral populations. "
   ]
  },
  {
   "cell_type": "code",
   "execution_count": null,
   "metadata": {},
   "outputs": [],
   "source": [
    "! head file.Q"
   ]
  },
  {
   "cell_type": "markdown",
   "metadata": {},
   "source": [
    "Note that the output filenames have ‘3’ in them. This indicates the number of populations (K) that was assumed for the analysis."
   ]
  },
  {
   "cell_type": "markdown",
   "metadata": {},
   "source": [
    "## Basic Plot"
   ]
  },
  {
   "cell_type": "markdown",
   "metadata": {},
   "source": [
    "## Running supervised ADMIXTURE\n",
    "\n",
    "Supervised ADMIXTURE \n",
    "\n",
    "Supervised learning mode is enabled with the flag `--supervised` and requires an additional\n",
    "file with a .pop suffix, specifying the ancestries of the reference individuals. Like this:\n",
    "\n",
    "admixure --supervised --cv K file.bed"
   ]
  },
  {
   "cell_type": "markdown",
   "metadata": {},
   "source": [
    "As mentioned, this mode required an additional file with .pop suffix. The prefix should be the same as the bed file. For example: mydata.bed, mydata.bim, mydata.fam and also mydata.pop."
   ]
  },
  {
   "cell_type": "markdown",
   "metadata": {},
   "source": [
    "The .pop file should look like below, where the individual characterized as \"-\" will be described as a mixture of \"AFR\", \"ASN\", \"EUR\". "
   ]
  },
  {
   "cell_type": "raw",
   "metadata": {},
   "source": [
    "YRI NA.. 0 0 0 1 AFR\n",
    "CEU NA.. 0 0 0 1 EUR\n",
    "CHS NA.. 0 0 0 1 ASN\n",
    "- IND1 0 0 0 1 - "
   ]
  },
  {
   "cell_type": "markdown",
   "metadata": {},
   "source": [
    "Given that in this example we have AFR, ASN, EUR, the K will be 3. In this way we force ADMIXTURE to describe the individual '-' as a mixture of 3 ancestry/clusters. "
   ]
  },
  {
   "cell_type": "markdown",
   "metadata": {},
   "source": [
    "We can create the `.pop` file, starting from the .fam file already available"
   ]
  },
  {
   "cell_type": "code",
   "execution_count": null,
   "metadata": {},
   "outputs": [],
   "source": [
    "! head ../dataset/1KGs_chr1_maf_pruned.fam"
   ]
  },
  {
   "cell_type": "code",
   "execution_count": null,
   "metadata": {},
   "outputs": [],
   "source": []
  }
 ],
 "metadata": {
  "kernelspec": {
   "display_name": "Python 3",
   "language": "python",
   "name": "python3"
  },
  "language_info": {
   "codemirror_mode": {
    "name": "ipython",
    "version": 3
   },
   "file_extension": ".py",
   "mimetype": "text/x-python",
   "name": "python",
   "nbconvert_exporter": "python",
   "pygments_lexer": "ipython3",
   "version": "3.6.9"
  }
 },
 "nbformat": 4,
 "nbformat_minor": 5
}
