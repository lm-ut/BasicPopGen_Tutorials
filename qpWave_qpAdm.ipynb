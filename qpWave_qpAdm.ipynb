{
 "cells": [
  {
   "cell_type": "markdown",
   "metadata": {},
   "source": [
    "# qpWave and qpAdm\n",
    "\n",
    "qpWave and qpAdm allow to model a target population as a mixture of others, given a set of reference groups. \n",
    "\n",
    "Following (https://comppopgenworkshop2019.readthedocs.io/en/latest/contents/05_qpwave_qpadm/qpwave_qpadm.html): \n",
    "\n",
    "\n",
    "QpWave and qpAdm are tools for summarizing information from multiple F-statistics, to make demographic inferences. With *qpWave* and *qpAdm* we can:\n",
    "\n",
    "* Detecting the minimum number of independent gene pools to explain a set of target populations (qpWave)\n",
    "* Testing sufficienty of an admixture model within the resolution of data (qpAdm)\n",
    "* Estimating admixture proportions (qpAdm)\n",
    "\n",
    "\n",
    "### Preparing the dataset\n",
    "\n",
    "Both qpWave and qpAdm require input file of EIGENSTRAT format, therefore we should first convert the plink file to the geno/ind/snp format. \n",
    "\n",
    "As for all EIGENSTRAT/ADMIXTOOLS sofwares, the basic sintax to run convertf is: `software -p parfile.par`. To convert the plink files to EIGENSOFT format we need to run:\n",
    "\n",
    "`convertf -p file.par`\n",
    "\n",
    "An automated script to create a convertf par file is available in ../scripts/BED2EIG.sh, and can be used as follows:\n",
    "\n",
    "bash BED2EIG.sh input_prefix output_prefix"
   ]
  },
  {
   "cell_type": "code",
   "execution_count": 2,
   "metadata": {},
   "outputs": [],
   "source": [
    "! bash ../scripts/BED2EIG.sh ../dataset/1KGs_chr1_maf_pruned 1KGs_chr1_maf_pruned_converted"
   ]
  },
  {
   "cell_type": "markdown",
   "metadata": {},
   "source": [
    "You should now find a convertf_\\*.par file in your working directory."
   ]
  },
  {
   "cell_type": "code",
   "execution_count": 3,
   "metadata": {},
   "outputs": [
    {
     "name": "stdout",
     "output_type": "stream",
     "text": [
      "/bin/bash: convertf: command not found\n"
     ]
    }
   ],
   "source": [
    "! convertf -p convertf_1KGs_chr1_maf_pruned_converted.par"
   ]
  },
  {
   "cell_type": "markdown",
   "metadata": {},
   "source": [
    "First let's edit the .ind file so that the third column has population/group names"
   ]
  },
  {
   "cell_type": "code",
   "execution_count": 9,
   "metadata": {},
   "outputs": [],
   "source": [
    "! sed -r 's/:/\\t/g' 1KGs_chr1_maf_pruned_converted.ind > tmp"
   ]
  },
  {
   "cell_type": "code",
   "execution_count": 10,
   "metadata": {},
   "outputs": [],
   "source": [
    "! awk '{print $2,$3,$1}' tmp > 1KGs_chr1_maf_pruned_converted.ind\n",
    "! rm tmp"
   ]
  },
  {
   "cell_type": "markdown",
   "metadata": {},
   "source": [
    "### Prepare the Left and Right populations\n",
    "\n",
    "To run both qpWave and qpAdm we will need two simple text files: right and left files. Both files contain a list of populations, with one population per line. It is possible to also use single-sample groups. The population group we list must be available in the third colum of the .ind file.\n",
    "\n",
    "* The **left** file, should list the proxy sources of the admixture event we want to test with qpAdm.  \n",
    "* The **right** file, should list the reference groups: populations differentialy related to the left population and the admixed target."
   ]
  },
  {
   "cell_type": "code",
   "execution_count": 28,
   "metadata": {},
   "outputs": [],
   "source": [
    "! echo -e \"CEU\\nYRI\" > left.txt\n",
    "! echo -e \"MSL\\nGWD\\nLWK\\nFIN\\nIBS\\nTSI\" > right.txt "
   ]
  },
  {
   "cell_type": "markdown",
   "metadata": {},
   "source": [
    "## Running qpWave\n",
    "\n",
    "In order to detect the minimum number of independent gene pools to explain a set of target populations, we are going to run *qpWave*. *qpWave* allows to check whether there was any gene flow between the left and the right populations, with the aim to select groups that are as indipendent as possible.\n",
    "\n",
    "If the right and the left population are independent, we can then move to run *qpAdm*."
   ]
  },
  {
   "cell_type": "markdown",
   "metadata": {},
   "source": [
    "### preparing the par file\n",
    "\n",
    "As for all other EIGENSOFT/AdmixTools we are going to prepare a par file for the software. A bash .sh script is available in ../script/ to automate this step."
   ]
  },
  {
   "cell_type": "code",
   "execution_count": 21,
   "metadata": {},
   "outputs": [],
   "source": [
    "! bash ../scripts/qpWave_qpAdm.sh 1KGs_chr1_maf_pruned_converted left.txt right.txt"
   ]
  },
  {
   "cell_type": "code",
   "execution_count": 22,
   "metadata": {},
   "outputs": [
    {
     "name": "stdout",
     "output_type": "stream",
     "text": [
      "indivname: 1KGs_chr1_maf_pruned_converted.ind\n",
      "snpname: 1KGs_chr1_maf_pruned_converted.snp\n",
      "genotypename: 1KGs_chr1_maf_pruned_converted.geno\n",
      "popleft: left.txt\n",
      "popright: right.txt\n",
      "details: YES\n",
      "allsnps: YES\n",
      "summary: YES\n"
     ]
    }
   ],
   "source": [
    "! more qpWave_qpAdm_1KGs_chr1_maf_pruned_converted.par"
   ]
  },
  {
   "cell_type": "code",
   "execution_count": null,
   "metadata": {},
   "outputs": [],
   "source": [
    "! qpWave -p qpWave_qpAdm_1KGs_chr1_maf_pruned_converted.par >> qpWave.log"
   ]
  },
  {
   "cell_type": "markdown",
   "metadata": {},
   "source": [
    "In the log file, qpWave list the file used, as well as the left and right populations considered for the run.\n",
    "\n",
    "We are interested at the last lines, where the **ranking** is. Specifically, we are going to focus at the last ranking row, that correspond to the highest ranking degree. Currently, we are testing N=2 left populations, so the maximum ranking will be N-1.  \n",
    "\n",
    "We are looking for an indication that the populations considered are independent, a p-value < 0.05, at **taildiff**, will indicate that the selected groups are indeed independent. "
   ]
  },
  {
   "cell_type": "code",
   "execution_count": 24,
   "metadata": {},
   "outputs": [
    {
     "name": "stdout",
     "output_type": "stream",
     "text": [
      "f4rank: 0 dof:      5 chisq:  1439.595 tail:      3.62331187e-309 dofdiff:      0 chisqdiff:     0.000 taildiff:                    1\n",
      "f4rank: 1 dof:      0 chisq:     0.000 tail:                    1 dofdiff:      5 chisqdiff:  1439.595 taildiff:      3.62331187e-309\n"
     ]
    }
   ],
   "source": [
    "! egrep rank qpWave.log"
   ]
  },
  {
   "cell_type": "markdown",
   "metadata": {},
   "source": [
    "## Running qpAdm\n",
    "\n",
    "So far, we have tested the left and the right groups, thus the proxy sources of the admixture event and the reference groups. We have not yet studied their relationship with the target admixed samples.\n",
    "Now that we know that the right and the left groups are independent, we can proceed running *qpAdm* with those samples to model the target admixed group.\n",
    "\n",
    "To run *qpAdm*, we need to add the target admixed group in the left.txt file. Be sure it is added as first in the list of left.txt"
   ]
  },
  {
   "cell_type": "code",
   "execution_count": 29,
   "metadata": {},
   "outputs": [],
   "source": [
    "! sed  -i '1s/^/ASW\\n/' left.txt"
   ]
  },
  {
   "cell_type": "markdown",
   "metadata": {},
   "source": [
    "We can now run qpAdm with the same par file we create before, for qpWave."
   ]
  },
  {
   "cell_type": "code",
   "execution_count": null,
   "metadata": {},
   "outputs": [],
   "source": [
    "! qpAdm -p qpWave_qpAdm_1KGs_chr1_maf_pruned_converted.par >> qpAdm.log"
   ]
  },
  {
   "cell_type": "markdown",
   "metadata": {},
   "source": [
    "We are going to focus at this block available in qpAdm.log:"
   ]
  },
  {
   "cell_type": "raw",
   "metadata": {},
   "source": [
    "best coefficients:     0.221     0.779 \n",
    "totmean:      0.221     0.779 \n",
    "boot mean:     0.221     0.779 \n",
    "      std. errors:     0.007     0.007 \n",
    "\n",
    "error covariance (* 1,000,000)\n",
    "        44        -44 \n",
    "       -44         44 \n",
    "\n",
    "\n",
    "summ: ASW    2      0.746211     0.221     0.779         44        -44         44 \n",
    "\n",
    "    fixed pat  wt  dof     chisq       tail prob\n",
    "           00  0     4     1.943        0.746211     0.221     0.779 \n",
    "           01  1     5  1329.187               0     1.000     0.000 \n",
    "           10  1     5   658.937               0     0.000     1.000 "
   ]
  },
  {
   "cell_type": "markdown",
   "metadata": {},
   "source": [
    "We modelled ASW as a mixture of CEU and YRI (following the order of the lift in the left.txt file).\n",
    "\n",
    "* `best coefficients`  is listing the ancestry proporions assigned\n",
    "* `std. errors` are the standard errors computed via block jackknife\n",
    "* `summ` will given you the summary of the run, in this case ASW is modelled with 2 groups, the p-value of the model is 0.74, and the ancestry proportions are ~0.22 and ~0.77\n",
    "\n",
    "The last block shows all the model tested by the single run:\n",
    "\n",
    "```\n",
    "fixed pat  wt  dof     chisq       tail prob\n",
    "00  0     4     1.943        0.746211     0.221     0.779 \n",
    "```\n",
    "\n",
    "* `00` stands for \"both sources used\", both CEU and YRI are used to model ASW.\n",
    "* `tail prop` indicated the p-value, in qpAdm a p-value > 0.05 is selected to indicate that the model is supported. In this case, the model is supported with a tailprob of 0.74.\n",
    "* `0.221` the ancestry proportion of the first source (CEU)\n",
    "* `0.779` the ancestry proportion of the second source (YRI)\n",
    "\n",
    "\n",
    "```\n",
    "fixed pat  wt  dof     chisq       tail prob\n",
    "01  1     5  1329.187               0     1.000     0.000 \n",
    "\n",
    "```\n",
    "\n",
    "* `01` stands for \"ONE sources used\", the first is used, the second is omitted: thus only CEU are used to model ASW.\n",
    "* `tail prop` indicated the p-value, in qpAdm a p-value > 0.05 is selected to indicate that the model is supported. In this case the model is not supported.\n",
    "* `1` the ancestry proportion of the first source (CEU)\n",
    "* `0` the ancestry proportion of the second source (YRI), that is 0 because it is not used"
   ]
  },
  {
   "cell_type": "markdown",
   "metadata": {},
   "source": [
    "We thus conclude that ASW can be modelled as a mixture of CEU and YRI, with CEU contributing ~20% and YRI ~80%."
   ]
  },
  {
   "cell_type": "code",
   "execution_count": null,
   "metadata": {},
   "outputs": [],
   "source": []
  }
 ],
 "metadata": {
  "kernelspec": {
   "display_name": "Python 3 (ipykernel)",
   "language": "python",
   "name": "python3"
  },
  "language_info": {
   "codemirror_mode": {
    "name": "ipython",
    "version": 3
   },
   "file_extension": ".py",
   "mimetype": "text/x-python",
   "name": "python",
   "nbconvert_exporter": "python",
   "pygments_lexer": "ipython3",
   "version": "3.9.15"
  }
 },
 "nbformat": 4,
 "nbformat_minor": 4
}
