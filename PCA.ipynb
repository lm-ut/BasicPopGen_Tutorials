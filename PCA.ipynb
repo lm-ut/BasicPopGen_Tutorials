{
 "cells": [
  {
   "cell_type": "markdown",
   "id": "51fc11d8-44e1-43f3-afa6-d2df4337bc82",
   "metadata": {},
   "source": [
    "# Principal Components Analysis: PCA\n",
    "\n",
    "Extract from my PhD thesis: http://dspace.ut.ee/bitstream/handle/10062/82088/molinaro_ludovica.pdf?sequence=6&isAllowed=y\n",
    "\n",
    "When it comes to analysing the vast amount of information of the genetic data, dimensionality reduction techniques are essential tools. They comprise a set of approaches that aim to understand the relationship between multiple attributes (for example SNPs) of an entity (such as individuals) and assess their relevance in describing the set while minimising the information loss (Jolliffe and Cadima 2016).   \n",
    "Among the dimensionality reduction techniques, Principal Component Analysis (PCA) is one of the most used in population genetics since Menozzi et al pioneered its usage to study genetic variation (Novembre and Stephens 2008; Menozzi P., Piazza A., and Cavalli-Sforza L. 1978). PCA does not operate on a priori information: it is an optimal exploratory tool to make predictive models.  \n",
    "\n",
    "\n",
    "#### The base assumption is that \n",
    "genotypes will cluster together in the PC space according to their similarity, so individuals with a recent shared ancestry should fall closer together than more distantly related individuals (Schraiber and Akey 2015). As demonstrated by McVean 2009 the location of samples on the PC space can be related to the mean time of coalescence between pairs of samples. \n",
    "\n",
    "#### On the other hand, \n",
    "if multiple demographic models have the same effect on mean coalescence times, it is difficult to define what kind of event characterised the population under study (McVean 2009; Novembre and Stephens 2008). It follows that despite allowing for a wide range of inferences, interpreting past demographic events from PCA patterns is challenging and should be done with caution. \n",
    "\n",
    "#### Biases\n",
    "PCA projections depend strongly on the sample size, as sample size differences between populations will distort the projection space, but also sampling location and ascertainment of samples may cause biases. \n",
    "\n",
    "#### Projection \n",
    "An additional useful feature of PCA is to define the PC space with selected samples and then project the samples of interest. Projecting samples on an already defined PC space avoids potentially skewing the analyses when the sample size of the target group is significantly different from the other set, or when the target samples are characterised by a substantial missing data, as commonly happens with ancient data. Additionally, projecting samples is useful when they are thought to be admixed, in fact by projecting the admixed individuals in the reference populations defined PC space, it is also possible to identify the admixture proportions (McVean 2009). "
   ]
  },
  {
   "cell_type": "markdown",
   "id": "44f8a48f-c35c-4416-a7bf-e5bbf8b84d9e",
   "metadata": {},
   "source": [
    "## Preparing the dataset\n",
    "\n",
    "To run PCA we first need to remove SNPs in Linkage Disequilibrium (LD).  \n",
    "Using the software plink v1.9, we are going to first indentifying the SNPs that:  \n",
    "- show a pariwise r^2 > `0.1`\n",
    "- in a genomic window of `50` SNPs,  \n",
    "- shifted by `10` SNPs at the end of each step  \n",
    "\n",
    "All the SNPs that exceed the 0.1 threshold, will then be removed"
   ]
  },
  {
   "cell_type": "code",
   "execution_count": null,
   "id": "1eb4465f-844f-4c37-8852-338f64a4e7dc",
   "metadata": {},
   "outputs": [],
   "source": [
    "! plink --bfile dataset/1KGs_chr1_maf \\\n",
    "        --indep-pairwise 50 10 0.1 \\\n",
    "        --out dataset/SNPs_inLD"
   ]
  },
  {
   "cell_type": "markdown",
   "id": "51c7507f-30ec-4bcf-93e0-759391973b9b",
   "metadata": {},
   "source": [
    "The command `--indep-pairwise` will create two files: X.prune.in and X.prune.out, where as X plink will set the name we indicated as an argument of `--output`"
   ]
  },
  {
   "cell_type": "markdown",
   "id": "895b39d8-7e74-4d3a-8c7c-ec8fd986c84f",
   "metadata": {},
   "source": [
    "We will now remove the SNPs that pass the 0.1 threshold, with `--exclude` and the file.prune.out created by the `--indep-pairwise` command. "
   ]
  },
  {
   "cell_type": "code",
   "execution_count": null,
   "id": "67d5e304-0a60-41cb-9ce5-3a28c8d417fa",
   "metadata": {},
   "outputs": [],
   "source": [
    "! plink --bfile dataset/1KGs_chr1_maf \\\n",
    "        --exclude dataset/SNPs_inLD.prune.out \\\n",
    "        --make-bed \\\n",
    "        --out dataset/1KGs_chr1_maf_pruned"
   ]
  },
  {
   "cell_type": "markdown",
   "id": "bd1986a8-7e9c-4d18-94db-dbadc0928f33",
   "metadata": {},
   "source": [
    "### Preparing the files\n",
    "#### Converting plink files to EIGENSOFT format\n",
    "\n",
    "We are going to run the PCA with the EIGENSOFT software called smartpca. First, we have to convert the plink files in EIGENSTRAT format, so that the program smartpca will know how to read them.  \n",
    "To convert the files we are going to use a software available in EIGENSTRAT, called **convertf**. The basic syntax of **convertf** is:\n",
    "\n",
    "`convertf -p file.par ` \n",
    "\n",
    "The file.par contains the information needed to properly convert your file.  In the directory .scripts/ you will find a bash script that will automatically create a convertf parfile, given an input file name and an output file name. The first three lines of the par file list the 3 binary plink files, the fourth row indicate the final output format (EIGENSTRAT). The geno/snp/ind file are the EIGENSTRAT files that correspont to bed/bim/fam files.  \n",
    "\n",
    "The bash command can be ran this way:"
   ]
  },
  {
   "cell_type": "code",
   "execution_count": 7,
   "id": "a9033dfc-9c1a-4365-9a0e-882592861ce0",
   "metadata": {},
   "outputs": [],
   "source": [
    "! bash scripts/BED2EIG.sh dataset/1KGs_chr1_maf_pruned 1KGs_chr1_maf_pruned_converted"
   ]
  },
  {
   "cell_type": "code",
   "execution_count": 8,
   "id": "01b686cc-9133-4caa-8473-72bbe4bf5667",
   "metadata": {},
   "outputs": [],
   "source": [
    "! sed -i 's/-9/1/g' dataset/1KGs_chr1_maf_pruned.fam"
   ]
  },
  {
   "cell_type": "markdown",
   "id": "a333ebb3-7e92-4355-a521-4e059ef41c3c",
   "metadata": {},
   "source": [
    "With the par file available, we are now ready to run convertf"
   ]
  },
  {
   "cell_type": "code",
   "execution_count": 7,
   "id": "8598c704-6bdd-498b-8de0-b285a3f5222c",
   "metadata": {},
   "outputs": [
    {
     "name": "stdout",
     "output_type": "stream",
     "text": [
      "parameter file: convertf_1KGs_chr1_maf_pruned_converted.par\n",
      "genotypename: dataset/1KGs_chr1_maf_pruned.bed\n",
      "snpname: dataset/1KGs_chr1_maf_pruned.bim\n",
      "indivname: dataset/1KGs_chr1_maf_pruned.fam\n",
      "outputformat: EIGENSTRAT\n",
      "genotypeoutname: 1KGs_chr1_maf_pruned_converted.geno\n",
      "snpoutname: 1KGs_chr1_maf_pruned_converted.snp\n",
      "indivoutname: 1KGs_chr1_maf_pruned_converted.ind\n",
      "## convertf version: 5722\n",
      "genetic distance set from physical distance\n",
      "genotype file processed\n",
      "before compress: snps: 31437 indivs: 3202\n",
      "after compress: snps: 29301 indivs: 3202\n",
      "numvalidind:   3202  maxmiss: 3202001\n",
      "eigenstrat output\n",
      "numsnps output: 29301\n",
      "##end of convertf:       45.075 seconds cpu       19.599 Mbytes in use\n"
     ]
    }
   ],
   "source": [
    "! convertf -p convertf_1KGs_chr1_maf_pruned_converted.par"
   ]
  },
  {
   "cell_type": "markdown",
   "id": "5271225e-e5c9-425d-a6ed-104fd08ad07a",
   "metadata": {},
   "source": [
    "## Running smartpca without projection\n",
    "\n",
    "Now that we have the EIGENSOFT-format files, we can run thw software **smartpca** to run the principal components analysis. To do so, we must first create a par file for the software **smartpca** as well. An automated script to create a smartpca par file is available in scripts/SMARTPCA.sh, and can be used as follows:"
   ]
  },
  {
   "cell_type": "code",
   "execution_count": 8,
   "id": "c0a40d4b-d336-4752-b1fe-1d671735ceb6",
   "metadata": {},
   "outputs": [],
   "source": [
    "! bash scripts/SMARTPCA.sh 1KGs_chr1_maf_pruned_converted"
   ]
  },
  {
   "cell_type": "code",
   "execution_count": 9,
   "id": "70261ad8-3298-4345-8856-e8f7e3ee4d47",
   "metadata": {},
   "outputs": [
    {
     "name": "stdout",
     "output_type": "stream",
     "text": [
      "genotypename:    1KGs_chr1_maf_pruned_converted.geno\n",
      "snpname:         1KGs_chr1_maf_pruned_converted.snp\n",
      "indivname:       1KGs_chr1_maf_pruned_converted.ind\n",
      "evecoutname:\t1KGs_chr1_maf_pruned_converted.pca.evec\n",
      "evaloutname:\t1KGs_chr1_maf_pruned_converted.eval\n",
      "altnormstyle: NO\n",
      "numoutevec: 10\n",
      "numoutlieriter: 5\n",
      "numoutlierevec: 10\n",
      "lsqproject: YES\n",
      "poplistname: pop_list.txt\n"
     ]
    }
   ],
   "source": [
    "! more smartpca_1KGs_chr1_maf_pruned_converted.par"
   ]
  },
  {
   "cell_type": "raw",
   "id": "60d59f07-1f52-49fa-bf94-452873a43603",
   "metadata": {},
   "source": [
    "genotypename:   file.geno     # EIGENSOFT file format  \n",
    "snpname:        file.snp     # EIGENSOFT file format  \n",
    "indivname:      file.ind     # EIGENSOFT file format  \n",
    "evecoutname:\tfile.pca.evec     # Contains Eigenvectors/PCA main output  \n",
    "evaloutname:\tfile.eval     # Contains Eigenvalues  \n",
    "altnormstyle:   NO     # Price et al 2006 Normalization, if YES  PAtterson 2006 Normalization  \n",
    "numoutevec:     10     # Number of Eigenvectors/Principal Components   \n",
    "numoutlieriter: 5     # Maximum number of outlier removal iterations  \n",
    "numoutlierevec: 10     # Number of principal components along which to remove outliers during each outlier removal iteration\n",
    "lsqproject:     YES     # If set to YES: PCA projections. When PCs are calculated using samples with little missing data and it is desired to **project** samples with much missing data onto the top PCs.\n",
    "poplistname:    pop_list.txt     # List of samples on which the PCs are calculated to then **project** \n",
    "\n",
    "lsqproject and poplistname will be only needed for the projected runs, later on. Further details can be found here: https://github.com/chrchang/eigensoft/blob/master/POPGEN/README "
   ]
  },
  {
   "cell_type": "markdown",
   "id": "aa375a0e-4fb1-42c9-805a-f75f473e8772",
   "metadata": {},
   "source": [
    "Since we are running PCA without projection, we can remove the last two lines of the par file"
   ]
  },
  {
   "cell_type": "code",
   "execution_count": 10,
   "id": "ce1feb13-788f-4af0-9aa5-e4f94024d803",
   "metadata": {},
   "outputs": [
    {
     "name": "stdout",
     "output_type": "stream",
     "text": [
      "genotypename:    1KGs_chr1_maf_pruned_converted.geno\n",
      "snpname:         1KGs_chr1_maf_pruned_converted.snp\n",
      "indivname:       1KGs_chr1_maf_pruned_converted.ind\n",
      "evecoutname:\t1KGs_chr1_maf_pruned_converted.pca.evec\n",
      "evaloutname:\t1KGs_chr1_maf_pruned_converted.eval\n",
      "altnormstyle: NO\n",
      "numoutevec: 10\n",
      "numoutlieriter: 5\n",
      "numoutlierevec: 10\n"
     ]
    }
   ],
   "source": [
    "! head -n -2 smartpca_1KGs_chr1_maf_pruned_converted.par > tmp.par\n",
    "! mv tmp.par smartpca_1KGs_chr1_maf_pruned_converted.par\n",
    "! more smartpca_1KGs_chr1_maf_pruned_converted.par"
   ]
  },
  {
   "cell_type": "markdown",
   "id": "db4283f8-ae98-42d8-a29e-2cf43bb3142c",
   "metadata": {},
   "source": [
    "#### We are now ready to run smartpca on our dataset."
   ]
  },
  {
   "cell_type": "code",
   "execution_count": null,
   "id": "79852001-a0d1-4413-828b-4b141f14694b",
   "metadata": {},
   "outputs": [],
   "source": [
    "! smartpca -p smartpca_1KGs_chr1_maf_pruned_converted.par"
   ]
  },
  {
   "cell_type": "markdown",
   "id": "4dc94fa0-18c1-403c-9d6e-ed9d31fe566c",
   "metadata": {},
   "source": [
    "#### Inside the output files"
   ]
  },
  {
   "cell_type": "code",
   "execution_count": 12,
   "id": "75c63807-b349-43be-b428-7b13ff33d983",
   "metadata": {},
   "outputs": [
    {
     "name": "stdout",
     "output_type": "stream",
     "text": [
      "           #eigvals:   254.240    98.886    31.465    23.809     5.018     4.818     4.307     4.211     3.943     3.830 \n",
      "         GBR:HG00096    -0.0116     -0.0219      0.0046     -0.0162      0.0013     -0.0125     -0.0136      0.0194      0.0059      0.0080          Control\n",
      "         GBR:HG00097    -0.0100     -0.0229      0.0034     -0.0182     -0.0049      0.0016      0.0157      0.0219     -0.0401     -0.0221          Control\n",
      "         GBR:HG00099    -0.0112     -0.0243      0.0048     -0.0187      0.0058     -0.0069     -0.0224      0.0219      0.0106     -0.0135          Control\n",
      "         GBR:HG00100    -0.0108     -0.0234      0.0046     -0.0150     -0.0054     -0.0061      0.0148      0.0122     -0.0246      0.0024          Control\n",
      "         GBR:HG00101    -0.0119     -0.0239      0.0080     -0.0162     -0.0152     -0.0280     -0.0059      0.0389      0.0120      0.0118          Control\n",
      "         GBR:HG00102    -0.0103     -0.0242      0.0065     -0.0206      0.0112      0.0160      0.0158     -0.0012      0.0226     -0.0014          Control\n",
      "         GBR:HG00103    -0.0121     -0.0222      0.0044     -0.0160      0.0070      0.0011     -0.0124      0.0196      0.0310     -0.0040          Control\n",
      "         GBR:HG00105    -0.0109     -0.0236      0.0048     -0.0225      0.0069      0.0020     -0.0088      0.0028      0.0178     -0.0178          Control\n",
      "         GBR:HG00106    -0.0124     -0.0223      0.0048     -0.0189     -0.0011     -0.0063      0.0076      0.0222     -0.0046     -0.0068          Control\n"
     ]
    }
   ],
   "source": [
    "! head 1KGs_chr1_maf_pruned_converted.pca.evec"
   ]
  },
  {
   "cell_type": "markdown",
   "id": "3f6c50fe-938a-482f-ae90-cfe883be0895",
   "metadata": {},
   "source": [
    "The `.evec` file is a dataframe with N columns and M rows.  \n",
    "The number of columns correspond to the samples ID, followed by the N PC we requested in numoucevec (see parfile), and finally one last column, that in the non-projected run is not useful.\n",
    "While the number or rows, correspond to the number of samples on which the PCA was performed. The `.evec` file is the file with the eigenvectors (the PCA) that we will plot\n",
    "\n",
    "The `.eval` file is a one column file, containing the eigenvalues. For this tutorial, we won't look into the .eval file"
   ]
  },
  {
   "cell_type": "markdown",
   "id": "afcd5063-038c-492b-8859-ff58cb29516f",
   "metadata": {},
   "source": [
    "### Basic plot"
   ]
  },
  {
   "cell_type": "markdown",
   "id": "8062eac6-9b49-431c-80bf-edddbf8c3339",
   "metadata": {},
   "source": [
    "## Running smartpca with projection\n",
    "\n",
    "To run PCA with projection, let's first create the smartpca par file. The two key parameters for a projected run are: A) lsqproject:YES, B) poplistname: file.  \n",
    "An automated script to create a smartpca par file is available in scripts/SMARTPCA.sh, and can be used as follows:"
   ]
  },
  {
   "cell_type": "code",
   "execution_count": 13,
   "id": "35cf402b-95d4-45a7-83fd-5120af1f6df7",
   "metadata": {},
   "outputs": [],
   "source": [
    "! bash scripts/SMARTPCA.sh 1KGs_chr1_maf_pruned_converted"
   ]
  },
  {
   "cell_type": "markdown",
   "id": "d2fa5413-abd4-4016-acc1-304bbb526dac",
   "metadata": {},
   "source": [
    "We can use the .ind file we prepared for the not-projected run. However,  the .ind file should be modified so that the software can select the groups to build the PC space on ('Controls') and the groups to project ('Cases'). Let's say that we want GBR, ESN and CHS as `Controls`, and all other groups will be projected on them (therefore `Cases`). "
   ]
  },
  {
   "cell_type": "code",
   "execution_count": 16,
   "id": "e10bb446-4876-4dba-8bd4-d643f8c20bff",
   "metadata": {},
   "outputs": [],
   "source": [
    "! sed -r 's/:/\\t/g' 1KGs_chr1_maf_pruned_converted.ind > tmp.ind\n",
    "! awk '{ if ($1 == \"GBR\" || $1 == \"ESN\" || $1 == \"CHS\") print $1,$2,$3,$4=\"Control\"; else print  $1,$2,$3,$4=\"Case\" }' tmp.ind > tmp2.ind\n",
    "! awk '{print $1\":\"$2,$3,$4}' tmp2.ind > 1KGs_chr1_maf_pruned_converted.ind\n",
    "! rm tmp*"
   ]
  },
  {
   "cell_type": "markdown",
   "id": "db77eb14-2275-4425-8f8b-5103fdfa3e54",
   "metadata": {},
   "source": [
    "Now we should create the pop_list.txt file, containing the list of populations that should be used to build the pc space. Since we clustered them together as `Control`, the only thing we have to do now is to create a pop_list.txt file with the word `Control` inside."
   ]
  },
  {
   "cell_type": "code",
   "execution_count": 18,
   "id": "0b1279e6-0cb4-446c-942e-1bc67e7fd4b8",
   "metadata": {},
   "outputs": [],
   "source": [
    "! echo \"Control\" > pop_list.txt"
   ]
  },
  {
   "cell_type": "markdown",
   "id": "1d3145dc-e139-4903-949d-763f89a8e4a8",
   "metadata": {},
   "source": [
    "We are now ready to run smartpca!"
   ]
  },
  {
   "cell_type": "code",
   "execution_count": null,
   "id": "1a471414-fc98-4222-b987-58d71f3df61f",
   "metadata": {},
   "outputs": [],
   "source": [
    "! bash scripts/SMARTPCA.sh 1KGs_chr1_maf_pruned_converted \n",
    "! smartpca -p smartpca_1KGs_chr1_maf_pruned_converted.par"
   ]
  },
  {
   "cell_type": "markdown",
   "id": "2c4bd3e8-42f8-4825-834d-dae2897c71ba",
   "metadata": {},
   "source": [
    "#### Inside the output files"
   ]
  },
  {
   "cell_type": "code",
   "execution_count": 20,
   "id": "94fe5458-f76b-4535-b559-a7794deadc33",
   "metadata": {},
   "outputs": [
    {
     "name": "stdout",
     "output_type": "stream",
     "text": [
      "           #eigvals:    44.174    17.944     1.897     1.894     1.880     1.859     1.850     1.833     1.811     1.791 \n",
      "         GBR:HG00096    -0.0250     -0.0870     -0.0048      0.0086     -0.0070     -0.0048     -0.0089     -0.0014     -0.0020     -0.0359          Control\n",
      "         GBR:HG00097    -0.0212     -0.0866      0.0071     -0.0321      0.0170     -0.0012      0.0031      0.0044      0.0105     -0.0089          Control\n",
      "         GBR:HG00099    -0.0235     -0.0933     -0.0146      0.0144      0.0109     -0.0116     -0.0025     -0.0173      0.0094      0.0232          Control\n",
      "         GBR:HG00100    -0.0225     -0.0896     -0.0051     -0.0103     -0.0101     -0.0094     -0.0139     -0.0078     -0.0084      0.0131          Control\n",
      "         GBR:HG00101    -0.0248     -0.0932     -0.0420     -0.0095      0.0039      0.0159     -0.0079     -0.0123     -0.0244     -0.0043          Control\n",
      "         GBR:HG00102    -0.0212     -0.0920      0.0034      0.0095      0.0020     -0.0097      0.0077      0.0255     -0.0069      0.0193          Control\n",
      "         GBR:HG00103    -0.0257     -0.0880     -0.0041      0.0119      0.0087      0.0054      0.0142      0.0156      0.0037      0.0197          Control\n",
      "         GBR:HG00105    -0.0231     -0.0899     -0.0003     -0.0048     -0.0018     -0.0126      0.0250      0.0051      0.0080     -0.0032          Control\n",
      "         GBR:HG00106    -0.0268     -0.0888     -0.0076      0.0032     -0.0001     -0.0054     -0.0065      0.0077     -0.0000     -0.0040          Control\n"
     ]
    }
   ],
   "source": [
    "! head 1KGs_chr1_maf_pruned_converted.pca.evec"
   ]
  },
  {
   "cell_type": "markdown",
   "id": "dcb5f0a6-d87b-4257-8de8-43d8e528189f",
   "metadata": {},
   "source": [
    "The `.evec` file is a dataframe with N columns and M rows.  \n",
    "The number of columns correspond to the samples ID, followed by the N PC we requested in numoucevec (see parfile), and finally one last column, that in the non-projected run is not useful.\n",
    "While the number or rows, correspond to the number of samples on which the PCA was performed. \n",
    "\n",
    "#### The `.evec` file is the file with the eigenvectors (the PCA) that we will plot\n",
    "\n",
    "The `.eval` file is a one column file, containing the eigenvalues. For this tutorial, we won't look into the .eval file."
   ]
  },
  {
   "cell_type": "markdown",
   "id": "923df772-5e22-4a60-8dd6-d0327b1dbb13",
   "metadata": {},
   "source": [
    "### Basic plot"
   ]
  }
 ],
 "metadata": {
  "kernelspec": {
   "display_name": "Python 3 (ipykernel)",
   "language": "python",
   "name": "python3"
  },
  "language_info": {
   "codemirror_mode": {
    "name": "ipython",
    "version": 3
   },
   "file_extension": ".py",
   "mimetype": "text/x-python",
   "name": "python",
   "nbconvert_exporter": "python",
   "pygments_lexer": "ipython3",
   "version": "3.11.5"
  }
 },
 "nbformat": 4,
 "nbformat_minor": 5
}
