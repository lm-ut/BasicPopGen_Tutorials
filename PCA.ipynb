{
 "cells": [
  {
   "cell_type": "markdown",
   "metadata": {},
   "source": [
    "# Principal Components Analysis: PCA\n",
    "\n",
    "Extract from my PhD thesis: http://dspace.ut.ee/bitstream/handle/10062/82088/molinaro_ludovica.pdf?sequence=6&isAllowed=y\n",
    "\n",
    "When it comes to analysing the vast amount of information of the genetic data, dimensionality reduction techniques are essential tools. They comprise a set of approaches that aim to understand the relationship between multiple attributes (for example SNPs) of an entity (such as individuals) and assess their relevance in describing the set while minimising the information loss (Jolliffe and Cadima 2016).   \n",
    "Among the dimensionality reduction techniques, Principal Component Analysis (PCA) is one of the most used in population genetics since Menozzi et al pioneered its usage to study genetic variation (Novembre and Stephens 2008; Menozzi P., Piazza A., and Cavalli-Sforza L. 1978). PCA does not operate on a priori information: it is an optimal exploratory tool to make predictive models.  \n",
    "\n",
    "\n",
    "#### The base assumption is that \n",
    "genotypes will cluster together in the PC space according to their similarity, so individuals with a recent shared ancestry should fall closer together than more distantly related individuals (Schraiber and Akey 2015). As demonstrated by McVean 2009 the location of samples on the PC space can be related to the mean time of coalescence between pairs of samples. \n",
    "\n",
    "#### On the other hand, \n",
    "if multiple demographic models have the same effect on mean coalescence times, it is difficult to define what kind of event characterised the population under study (McVean 2009; Novembre and Stephens 2008). It follows that despite allowing for a wide range of inferences, interpreting past demographic events from PCA patterns is challenging and should be done with caution. \n",
    "\n",
    "#### Biases\n",
    "PCA projections depend strongly on the sample size, as sample size differences between populations will distort the projection space, but also sampling location and ascertainment of samples may cause biases. \n",
    "\n",
    "#### Projection \n",
    "An additional useful feature of PCA is to define the PC space with selected samples and then project the samples of interest. Projecting samples on an already defined PC space avoids potentially skewing the analyses when the sample size of the target group is significantly different from the other set, or when the target samples are characterised by a substantial missing data, as commonly happens with ancient data. Additionally, projecting samples is useful when they are thought to be admixed, in fact by projecting the admixed individuals in the reference populations defined PC space, it is also possible to identify the admixture proportions (McVean 2009). "
   ]
  },
  {
   "cell_type": "markdown",
   "metadata": {},
   "source": [
    "## Preparing the dataset\n",
    "\n",
    "To run PCA we first need to remove SNPs in Linkage Disequilibrium (LD).  \n",
    "Using the software plink v1.9, we are going to first indentifying the SNPs that:  \n",
    "- show a pariwise r^2 > `0.1`\n",
    "- in a genomic window of `50` SNPs,  \n",
    "- shifted by `10` SNPs at the end of each step  \n",
    "\n",
    "All the SNPs that exceed the 0.1 threshold, will then be removed"
   ]
  },
  {
   "cell_type": "code",
   "execution_count": null,
   "metadata": {},
   "outputs": [],
   "source": [
    "! plink --bfile dataset/1KGs_chr1_maf \\\n",
    "        --indep-pairwise 50 10 0.1 \\\n",
    "        --out dataset/SNPs_inLD"
   ]
  },
  {
   "cell_type": "markdown",
   "metadata": {},
   "source": [
    "The command `--indep-pairwise` will create two files: X.prune.in and X.prune.out, where as X plink will set the name we indicated as an argument of `--output`"
   ]
  },
  {
   "cell_type": "markdown",
   "metadata": {},
   "source": [
    "We will now remove the SNPs that pass the 0.1 threshold, with `--exclude` and the file.prune.out created by the `--indep-pairwise` command. "
   ]
  },
  {
   "cell_type": "code",
   "execution_count": null,
   "metadata": {},
   "outputs": [],
   "source": [
    "! plink --bfile dataset/1KGs_chr1_maf \\\n",
    "        --exclude dataset/SNPs_inLD.prune.out \\\n",
    "        --make-bed \\\n",
    "        --out dataset/1KGs_chr1_maf_pruned"
   ]
  },
  {
   "cell_type": "markdown",
   "metadata": {},
   "source": [
    "### Preparing the files\n",
    "#### Converting plink files to EIGENSOFT format\n",
    "\n",
    "We are going to run the PCA with the EIGENSOFT software called smartpca. First, we have to convert the plink files in EIGENSTRAT format, so that the program smartpca will know how to read them.  \n",
    "To convert the files we are going to use a software available in EIGENSTRAT, called **convertf**. The basic syntax of **convertf** is:\n",
    "\n",
    "`convertf -p file.par ` \n",
    "\n",
    "The file.par contains the information needed to properly convert your file.  In the directory .scripts/ you will find a bash script that will automatically create a convertf parfile, given an input file name and an output file name. The first three lines of the par file list the 3 binary plink files, the fourth row indicate the final output format (EIGENSTRAT). The geno/snp/ind file are the EIGENSTRAT files that correspont to bed/bim/fam files.  \n",
    "\n",
    "The bash command can be ran this way:"
   ]
  },
  {
   "cell_type": "code",
   "execution_count": null,
   "metadata": {},
   "outputs": [],
   "source": [
    "! bash scripts/BED2EIG.sh dataset/1KGs_chr1_maf_pruned 1KGs_chr1_maf_pruned_converted"
   ]
  },
  {
   "cell_type": "code",
   "execution_count": null,
   "metadata": {},
   "outputs": [],
   "source": [
    "! sed -i 's/-9/1/g' dataset/1KGs_chr1_maf_pruned.fam"
   ]
  },
  {
   "cell_type": "markdown",
   "metadata": {},
   "source": [
    "With the par file available, we are now ready to run convertf"
   ]
  },
  {
   "cell_type": "code",
   "execution_count": null,
   "metadata": {},
   "outputs": [],
   "source": [
    "! convertf -p convertf_1KGs_chr1_maf_pruned_converted.par"
   ]
  },
  {
   "cell_type": "markdown",
   "metadata": {},
   "source": [
    "## Running smartpca without projection\n",
    "\n",
    "Now that we have the EIGENSOFT-format files, we can run thw software **smartpca** to run the principal components analysis. To do so, we must first create a par file for the software **smartpca** as well. An automated script to create a smartpca par file is available in scripts/SMARTPCA.sh, and can be used as follows:"
   ]
  },
  {
   "cell_type": "code",
   "execution_count": null,
   "metadata": {},
   "outputs": [],
   "source": [
    "! bash scripts/SMARTPCA.sh 1KGs_chr1_maf_pruned_converted 1KGs_chr1_maf_pruned_converted"
   ]
  },
  {
   "cell_type": "code",
   "execution_count": null,
   "metadata": {},
   "outputs": [],
   "source": [
    "! more smartpca_1KGs_chr1_maf_pruned_converted.par"
   ]
  },
  {
   "cell_type": "raw",
   "metadata": {},
   "source": [
    "genotypename:   file.geno     # EIGENSOFT file format  \n",
    "snpname:        file.snp     # EIGENSOFT file format  \n",
    "indivname:      file.ind     # EIGENSOFT file format  \n",
    "evecoutname:\tfile.pca.evec     # Contains Eigenvectors/PCA main output  \n",
    "evaloutname:\tfile.eval     # Contains Eigenvalues  \n",
    "altnormstyle:   NO     # Price et al 2006 Normalization, if YES  PAtterson 2006 Normalization  \n",
    "numoutevec:     10     # Number of Eigenvectors/Principal Components   \n",
    "numoutlieriter: 5     # Maximum number of outlier removal iterations  \n",
    "numoutlierevec: 10     # Number of principal components along which to remove outliers during each outlier removal iteration\n",
    "lsqproject:     YES     # If set to YES: PCA projections. When PCs are calculated using samples with little missing data and it is desired to **project** samples with much missing data onto the top PCs.\n",
    "poplistname:    pop_list.txt     # List of samples on which the PCs are calculated to then **project** \n",
    "\n",
    "lsqproject and poplistname will be only needed for the projected runs, later on. Further details can be found here: https://github.com/chrchang/eigensoft/blob/master/POPGEN/README "
   ]
  },
  {
   "cell_type": "markdown",
   "metadata": {},
   "source": [
    "Since we are running PCA without projection, we can remove the last two lines of the par file"
   ]
  },
  {
   "cell_type": "code",
   "execution_count": null,
   "metadata": {},
   "outputs": [],
   "source": [
    "! head -n -2 smartpca_1KGs_chr1_maf_pruned_converted.par > tmp.par\n",
    "! mv tmp.par smartpca_1KGs_chr1_maf_pruned_converted.par\n",
    "! more smartpca_1KGs_chr1_maf_pruned_converted.par"
   ]
  },
  {
   "cell_type": "markdown",
   "metadata": {},
   "source": [
    "#### We are now ready to run smartpca on our dataset."
   ]
  },
  {
   "cell_type": "code",
   "execution_count": null,
   "metadata": {},
   "outputs": [],
   "source": [
    "! smartpca -p smartpca_1KGs_chr1_maf_pruned_converted.par"
   ]
  },
  {
   "cell_type": "markdown",
   "metadata": {},
   "source": [
    "#### Inside the output files"
   ]
  },
  {
   "cell_type": "code",
   "execution_count": null,
   "metadata": {},
   "outputs": [],
   "source": [
    "! head 1KGs_chr1_maf_pruned_converted.pca.evec"
   ]
  },
  {
   "cell_type": "markdown",
   "metadata": {},
   "source": [
    "The `.evec` file is a dataframe with N columns and M rows.  \n",
    "The number of columns correspond to the samples ID, followed by the N PC we requested in numoucevec (see parfile), and finally one last column, that in the non-projected run is not useful.\n",
    "While the number or rows, correspond to the number of samples on which the PCA was performed. The `.evec` file is the file with the eigenvectors (the PCA) that we will plot\n",
    "\n",
    "The `.eval` file is a one column file, containing the eigenvalues. For this tutorial, we won't look into the .eval file"
   ]
  },
  {
   "cell_type": "markdown",
   "metadata": {},
   "source": [
    "### Basic plot"
   ]
  },
  {
   "cell_type": "code",
   "execution_count": null,
   "metadata": {},
   "outputs": [],
   "source": [
    "! Rscript scripts/PCA.R 1KGs_chr1_maf_pruned_converted.pca.evec"
   ]
  },
  {
   "cell_type": "markdown",
   "metadata": {},
   "source": [
    "## Running smartpca with projection\n",
    "\n",
    "To run PCA with projection, let's first create the smartpca par file. The two key parameters for a projected run are: A) lsqproject:YES, B) poplistname: file.  \n",
    "An automated script to create a smartpca par file is available in scripts/SMARTPCA.sh, and can be used as follows:"
   ]
  },
  {
   "cell_type": "code",
   "execution_count": null,
   "metadata": {},
   "outputs": [],
   "source": [
    "! bash scripts/SMARTPCA.sh 1KGs_chr1_maf_pruned_converted 1KGs_chr1_maf_pruned_converted_prjct"
   ]
  },
  {
   "cell_type": "markdown",
   "metadata": {},
   "source": [
    "We can use the .ind file we prepared for the not-projected run. However,  the .ind file should be modified so that the software can select the groups to build the PC space on ('Controls') and the groups to project ('Cases'). Let's say that we want GBR, ESN and CHS as `Controls`, and all other groups will be projected on them (therefore `Cases`). "
   ]
  },
  {
   "cell_type": "code",
   "execution_count": null,
   "metadata": {},
   "outputs": [],
   "source": [
    "! sed -r 's/:/\\t/g' 1KGs_chr1_maf_pruned_converted.ind > tmp.ind\n",
    "! awk '{ if ($1 == \"GBR\" || $1 == \"ESN\" || $1 == \"CHS\") print $1,$2,$3,$4=\"Control\"; else print  $1,$2,$3,$4=\"Case\" }' tmp.ind > tmp2.ind\n",
    "! awk '{print $1\":\"$2,$3,$4}' tmp2.ind > 1KGs_chr1_maf_pruned_converted.ind\n",
    "! rm tmp*"
   ]
  },
  {
   "cell_type": "markdown",
   "metadata": {},
   "source": [
    "Now we should create the pop_list.txt file, containing the list of populations that should be used to build the pc space. Since we clustered them together as `Control`, the only thing we have to do now is to create a pop_list.txt file with the word `Control` inside."
   ]
  },
  {
   "cell_type": "code",
   "execution_count": null,
   "metadata": {},
   "outputs": [],
   "source": [
    "! echo \"Control\" > pop_list.txt"
   ]
  },
  {
   "cell_type": "markdown",
   "metadata": {},
   "source": [
    "We are now ready to run smartpca!"
   ]
  },
  {
   "cell_type": "code",
   "execution_count": null,
   "metadata": {},
   "outputs": [],
   "source": [
    "! smartpca -p smartpca_1KGs_chr1_maf_pruned_converted.par"
   ]
  },
  {
   "cell_type": "markdown",
   "metadata": {},
   "source": [
    "#### Inside the output files"
   ]
  },
  {
   "cell_type": "code",
   "execution_count": null,
   "metadata": {},
   "outputs": [],
   "source": [
    "! head 1KGs_chr1_maf_pruned_converted.pca.evec"
   ]
  },
  {
   "cell_type": "markdown",
   "metadata": {},
   "source": [
    "The `.evec` file is a dataframe with N columns and M rows.  \n",
    "The number of columns correspond to the samples ID, followed by the N PC we requested in numoucevec (see parfile), and finally one last column, that in the non-projected run is not useful.\n",
    "While the number or rows, correspond to the number of samples on which the PCA was performed. \n",
    "\n",
    "#### The `.evec` file is the file with the eigenvectors (the PCA) that we will plot\n",
    "\n",
    "The `.eval` file is a one column file, containing the eigenvalues. For this tutorial, we won't look into the .eval file."
   ]
  },
  {
   "cell_type": "markdown",
   "metadata": {},
   "source": [
    "### Basic plot"
   ]
  },
  {
   "cell_type": "code",
   "execution_count": null,
   "metadata": {},
   "outputs": [],
   "source": [
    "! Rscript scripts/PCA.R 1KGs_chr1_maf_pruned_converted_prjct.pca.evec"
   ]
  },
  {
   "cell_type": "code",
   "execution_count": null,
   "metadata": {},
   "outputs": [],
   "source": []
  }
 ],
 "metadata": {
  "kernelspec": {
   "display_name": "Python 3",
   "language": "python",
   "name": "python3"
  },
  "language_info": {
   "codemirror_mode": {
    "name": "ipython",
    "version": 3
   },
   "file_extension": ".py",
   "mimetype": "text/x-python",
   "name": "python",
   "nbconvert_exporter": "python",
   "pygments_lexer": "ipython3",
   "version": "3.6.9"
  }
 },
 "nbformat": 4,
 "nbformat_minor": 5
}
